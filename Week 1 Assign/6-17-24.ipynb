{
 "cells": [
  {
   "cell_type": "markdown",
   "metadata": {},
   "source": [
    "#Python assignment 1\n",
    "\n",
    "## Daily Assignment 1\n",
    "\n",
    "### Excercise 1: Working with Dates & time"
   ]
  },
  {
   "cell_type": "code",
   "execution_count": 281,
   "metadata": {},
   "outputs": [
    {
     "name": "stdout",
     "output_type": "stream",
     "text": [
      "2024-06-17 17:40:58.755708\n"
     ]
    }
   ],
   "source": [
    "# 1. Get the current date and time. \n",
    "import datetime\n",
    "\n",
    "current_date = datetime.datetime.today()\n",
    "print(current_date)\n"
   ]
  },
  {
   "cell_type": "code",
   "execution_count": 282,
   "metadata": {},
   "outputs": [
    {
     "name": "stdout",
     "output_type": "stream",
     "text": [
      "2024-06-17\n"
     ]
    }
   ],
   "source": [
    "# 2. Format the date as `YYYY-MM-DD`.\n",
    "print(current_date.date())"
   ]
  },
  {
   "cell_type": "code",
   "execution_count": 283,
   "metadata": {},
   "outputs": [
    {
     "name": "stdout",
     "output_type": "stream",
     "text": [
      "116\n"
     ]
    }
   ],
   "source": [
    "# 3. Calculate the number of days until your next birthday.\n",
    "\n",
    "date = \"2024-10-12\"\n",
    "Next_birthdate = datetime.datetime.strptime(date, \"%Y-%m-%d\")\n",
    "\n",
    "days = Next_birthdate - current_date\n",
    "print(days.days)\n"
   ]
  },
  {
   "cell_type": "markdown",
   "metadata": {},
   "source": [
    "### Exercise 2: Dictionaries and Sets"
   ]
  },
  {
   "cell_type": "code",
   "execution_count": 284,
   "metadata": {},
   "outputs": [
    {
     "name": "stdout",
     "output_type": "stream",
     "text": [
      "{'John': 4.0, 'Doe': 3.67, 'Bob': 2.57}\n"
     ]
    }
   ],
   "source": [
    "# 1. Create a Dictionary of 3 Students and their grades.\n",
    "dict1 = {\n",
    "    \"John\" : 4.00,\n",
    "    \"Doe\" : 3.67,\n",
    "    \"Bob\" : 2.57    \n",
    "}\n",
    "\n",
    "print(dict1)"
   ]
  },
  {
   "cell_type": "code",
   "execution_count": 285,
   "metadata": {},
   "outputs": [
    {
     "name": "stdout",
     "output_type": "stream",
     "text": [
      "{'John': 4.0, 'Doe': 3.67, 'Bob': 2.57, 'lenny': '1.5'}\n"
     ]
    }
   ],
   "source": [
    "# 2. Add a fourth student to the dictionary.\n",
    "dict1[\"lenny\"] = \"1.5\"\n",
    "\n",
    "print(dict1)"
   ]
  },
  {
   "cell_type": "code",
   "execution_count": 286,
   "metadata": {},
   "outputs": [
    {
     "name": "stdout",
     "output_type": "stream",
     "text": [
      "{'John': {'Calculus', 'English'}, 'Doe': {'Spanish', 'History'}, 'Bob': {'Arts', 'Algebra'}, 'lenny': '1.5', 'Lenny': {'Language Arts', 'Theater'}}\n"
     ]
    }
   ],
   "source": [
    "# 3. Change the value of each student to another dictionary of their classes.\n",
    "\n",
    "dict1[\"John\"] = {\"Calculus\", \"English\"}\n",
    "dict1[\"Doe\"] = {\"Spanish\", \"History\"}\n",
    "dict1[\"Bob\"] = {\"Algebra\", \"Arts\"}\n",
    "dict1[\"Lenny\"] = {\"Theater\", \"Language Arts\"}\n",
    "\n",
    "\n",
    "print(dict1)"
   ]
  },
  {
   "cell_type": "code",
   "execution_count": 287,
   "metadata": {},
   "outputs": [
    {
     "name": "stdout",
     "output_type": "stream",
     "text": [
      "{'Doe', 'John', 'Bob', 'lenny', 'Lenny'}\n"
     ]
    }
   ],
   "source": [
    "# 4. Add all names of the students to a set.\n",
    "\n",
    "set_names = set(dict1.keys())\n",
    "print(set_names)"
   ]
  },
  {
   "cell_type": "markdown",
   "metadata": {},
   "source": [
    "### Exercise 3: Advanced String Operations"
   ]
  },
  {
   "cell_type": "code",
   "execution_count": 288,
   "metadata": {},
   "outputs": [
    {
     "data": {
      "text/plain": [
       "['Jacob', 'Mannix']"
      ]
     },
     "execution_count": 288,
     "metadata": {},
     "output_type": "execute_result"
    }
   ],
   "source": [
    "# 1. Split a string into a list of words.\n",
    "\n",
    "name = \"Jacob Mannix\"\n",
    "\n",
    "name.split()"
   ]
  },
  {
   "cell_type": "code",
   "execution_count": 289,
   "metadata": {},
   "outputs": [
    {
     "name": "stdout",
     "output_type": "stream",
     "text": [
      "I|want|to|eat|IceCream|\n"
     ]
    }
   ],
   "source": [
    "# 2. Join a list of words into a single string with pipes separating them. \n",
    "\n",
    "word_list = [\"I\", \"want\", \"to\", \"eat\", \"IceCream\"]\n",
    "\n",
    "#print(word_list)\n",
    "\n",
    "word_string = \"\"\n",
    "\n",
    "for x in word_list:\n",
    "    word_string += x + \"|\"\n",
    "\n",
    "print(word_string)"
   ]
  },
  {
   "cell_type": "code",
   "execution_count": 290,
   "metadata": {},
   "outputs": [
    {
     "data": {
      "text/plain": [
       "7"
      ]
     },
     "execution_count": 290,
     "metadata": {},
     "output_type": "execute_result"
    }
   ],
   "source": [
    "# 3. Count the number of occurrences of a character in a string. \n",
    "string1 = \"In the begining there was only one green ball\"\n",
    "string1.count(\"e\")"
   ]
  },
  {
   "cell_type": "markdown",
   "metadata": {},
   "source": [
    "### Exercise 4: Lists and Basic Operations "
   ]
  },
  {
   "cell_type": "code",
   "execution_count": 291,
   "metadata": {},
   "outputs": [
    {
     "name": "stdout",
     "output_type": "stream",
     "text": [
      "[12, 30, 25, 46, 654, 1, 2]\n"
     ]
    }
   ],
   "source": [
    "# 1. Create a list of integers. \n",
    "\n",
    "int_list = [12, 30, 25, 46, 654, 1, 2]\n",
    "\n",
    "\n",
    "print(int_list)"
   ]
  },
  {
   "cell_type": "code",
   "execution_count": 292,
   "metadata": {},
   "outputs": [
    {
     "name": "stdout",
     "output_type": "stream",
     "text": [
      "[0, 1, 2, 3, 4, 5, 6, 7, 8, 9, 10, 11, 12, 13, 14, 15, 16, 17, 18, 19]\n"
     ]
    }
   ],
   "source": [
    "# 2. Append an integer to the list. \n",
    "int_list2 = []\n",
    "\n",
    "for i in range(20):\n",
    "    int_list2.append(i)\n",
    "\n",
    "print(int_list2)"
   ]
  },
  {
   "cell_type": "code",
   "execution_count": 293,
   "metadata": {},
   "outputs": [
    {
     "name": "stdout",
     "output_type": "stream",
     "text": [
      "[0, 1, 2, 3, 4, 5, 6, 7, 8, 9, 10, 12, 13, 14, 15, 16, 17, 18, 19]\n"
     ]
    }
   ],
   "source": [
    "# 3. Remove an integer from the list. \n",
    "\n",
    "int_list2.pop(11)\n",
    "\n",
    "print(int_list2)"
   ]
  },
  {
   "cell_type": "code",
   "execution_count": 294,
   "metadata": {},
   "outputs": [
    {
     "name": "stdout",
     "output_type": "stream",
     "text": [
      "[0, 1, 2, 3, 4, 5, 6, 7, 8, 9]\n"
     ]
    }
   ],
   "source": [
    "# 4. Sort the list in ascending order. \n",
    "int_list3 = [9, 6, 3, 8, 5, 2, 7, 4, 1, 0]\n",
    "int_list3.sort()\n",
    "\n",
    "print(int_list3)"
   ]
  },
  {
   "cell_type": "markdown",
   "metadata": {},
   "source": [
    "## Challenge Assignments"
   ]
  },
  {
   "cell_type": "markdown",
   "metadata": {},
   "source": [
    "### Challenge 1: List Comprehensions and Filtering "
   ]
  },
  {
   "cell_type": "code",
   "execution_count": 295,
   "metadata": {},
   "outputs": [
    {
     "name": "stdout",
     "output_type": "stream",
     "text": [
      "[0, 1, 4, 9, 16, 25, 36, 49, 64, 81, 100]\n"
     ]
    }
   ],
   "source": [
    "# 1. Use a list comprehension to create a list of squares of integers from 1 to 10. \n",
    "int_list4 = []\n",
    "\n",
    "for i in range(11):\n",
    "    int_list4.append(i**2)\n",
    "\n",
    "print(int_list4)"
   ]
  },
  {
   "cell_type": "code",
   "execution_count": 296,
   "metadata": {},
   "outputs": [
    {
     "name": "stdout",
     "output_type": "stream",
     "text": [
      "[0, 2, 4, 6, 8, 10]\n"
     ]
    }
   ],
   "source": [
    "# 2. Filter a list to include only even numbers. \n",
    "\n",
    "int_list5 = []\n",
    "\n",
    "for i in range(11):\n",
    "    if(i % 2 == 0):\n",
    "        int_list5.append(i)\n",
    "\n",
    "print(int_list5)"
   ]
  },
  {
   "cell_type": "code",
   "execution_count": 297,
   "metadata": {},
   "outputs": [
    {
     "name": "stdout",
     "output_type": "stream",
     "text": [
      "{'a': 1, 'b': 2, 'c': 3, 'd': 4}\n"
     ]
    }
   ],
   "source": [
    "# 3. Use a dictionary comprehension to create a dictionary from two lists.\n",
    "\n",
    "list1 = [\"a\", \"b\", \"c\", \"d\"]\n",
    "list2 = [1, 2, 3, 4]\n",
    "\n",
    "\n",
    "dict_comp = dict(zip(list1, list2))\n",
    "\n",
    "print(dict_comp)\n"
   ]
  },
  {
   "cell_type": "markdown",
   "metadata": {},
   "source": [
    "### Challenge 2: Complex Date and Time Operations"
   ]
  },
  {
   "cell_type": "code",
   "execution_count": 298,
   "metadata": {},
   "outputs": [
    {
     "name": "stdout",
     "output_type": "stream",
     "text": [
      "2024-11-21 00:00:00\n",
      "<class 'datetime.datetime'>\n"
     ]
    }
   ],
   "source": [
    "# 1. Parse a string into a datetime object. \n",
    "date = \"2024-11-21\"\n",
    "date1 = datetime.datetime.strptime(date, \"%Y-%m-%d\")\n",
    "\n",
    "print(date1)\n",
    "print(type(date1))"
   ]
  },
  {
   "cell_type": "code",
   "execution_count": 299,
   "metadata": {},
   "outputs": [
    {
     "name": "stdout",
     "output_type": "stream",
     "text": [
      "Weeks:  91.57142857142857\n"
     ]
    }
   ],
   "source": [
    "# 2. Create a function that takes two dates and returns the number of weekdays between them. \n",
    "date_1 = \"2023-01-10\"\n",
    "date_1 = datetime.datetime.strptime(date_1, \"%Y-%m-%d\")\n",
    "\n",
    "date_2 = \"2024-10-12\"\n",
    "date_2 = datetime.datetime.strptime(date_2, \"%Y-%m-%d\")\n",
    "\n",
    "weeks = (date_2 - date_1).days/7\n",
    "print(\"Weeks: \", weeks)"
   ]
  },
  {
   "cell_type": "code",
   "execution_count": 300,
   "metadata": {},
   "outputs": [],
   "source": [
    "# 3. Create a function that accepts a start date, end date, meeting datetime, and interval and returns all occurrences of the event within that timeframe.\n",
    "\n"
   ]
  },
  {
   "cell_type": "markdown",
   "metadata": {},
   "source": [
    "### Challenge 3: Nested Collections and Data Aggregation "
   ]
  },
  {
   "cell_type": "code",
   "execution_count": 301,
   "metadata": {},
   "outputs": [
    {
     "name": "stdout",
     "output_type": "stream",
     "text": [
      "[{'name': 'Alice', 'grade': 90}, {'name': 'Bob', 'grade': 85}, {'name': 'Charlie', 'grade': 78}, {'name': 'David', 'grade': 92}, {'name': 'Eva', 'grade': 88}] \n",
      "\n",
      "Name: Alice, Grade: 90\n",
      "Name: Bob, Grade: 85\n",
      "Name: Charlie, Grade: 78\n",
      "Name: David, Grade: 92\n",
      "Name: Eva, Grade: 88\n"
     ]
    }
   ],
   "source": [
    "# 1. Create a list of dictionaries representing students with their names and grades. \n",
    "students = [\n",
    "    {\"name\": \"Alice\", \"grade\": 90},\n",
    "    {\"name\": \"Bob\", \"grade\": 85},\n",
    "    {\"name\": \"Charlie\", \"grade\": 78},\n",
    "    {\"name\": \"David\", \"grade\": 92},\n",
    "    {\"name\": \"Eva\", \"grade\": 88}\n",
    "]\n",
    "\n",
    "print(students, \"\\n\")\n",
    "\n",
    "# Print the list of students\n",
    "for student in students:\n",
    "    print(f\"Name: {student['name']}, Grade: {student['grade']}\")"
   ]
  },
  {
   "cell_type": "code",
   "execution_count": 302,
   "metadata": {},
   "outputs": [
    {
     "name": "stdout",
     "output_type": "stream",
     "text": [
      "The average grade of the students is: 86.60\n"
     ]
    }
   ],
   "source": [
    "# 2. Calculate the average grade of the students. \n",
    "# Calculate the total sum of grades\n",
    "total_grades = sum(student[\"grade\"] for student in students)\n",
    "\n",
    "# Calculate the number of students\n",
    "number_of_students = len(students)\n",
    "\n",
    "# Calculate the average grade\n",
    "average_grade = total_grades / number_of_students\n",
    "\n",
    "# Print the average grade\n",
    "print(f\"The average grade of the students is: {average_grade:.2f}\")"
   ]
  },
  {
   "cell_type": "code",
   "execution_count": 303,
   "metadata": {},
   "outputs": [
    {
     "name": "stdout",
     "output_type": "stream",
     "text": [
      "The student with the highest grade is: David with a grade of 92\n"
     ]
    }
   ],
   "source": [
    "# 3. Find the student with the highest grade. \n",
    "\n",
    "# Find the student with the highest grade\n",
    "highest_grade_student = max(students, key=lambda student: student[\"grade\"])\n",
    "\n",
    "# Print the student with the highest grade\n",
    "print(f\"The student with the highest grade is: {highest_grade_student['name']} with a grade of {highest_grade_student['grade']}\")\n"
   ]
  }
 ],
 "metadata": {
  "kernelspec": {
   "display_name": "Python 3",
   "language": "python",
   "name": "python3"
  },
  "language_info": {
   "codemirror_mode": {
    "name": "ipython",
    "version": 3
   },
   "file_extension": ".py",
   "mimetype": "text/x-python",
   "name": "python",
   "nbconvert_exporter": "python",
   "pygments_lexer": "ipython3",
   "version": "3.11.5"
  }
 },
 "nbformat": 4,
 "nbformat_minor": 2
}

{
 "cells": [
  {
   "cell_type": "markdown",
   "metadata": {},
   "source": [
    "# Assignment API\n",
    "\n",
    "- Connect to a free API \n",
    "    - https://github.com/public-apis/public-apis\n",
    "\n",
    "- Try 3 different APIs \n",
    "    - No Auth \n",
    "    - API Key \n",
    "    - OAuth \n",
    "\n",
    "- Check how to run API calls on a schedule "
   ]
  },
  {
   "cell_type": "code",
   "execution_count": 264,
   "metadata": {},
   "outputs": [
    {
     "data": {
      "text/plain": [
       "True"
      ]
     },
     "execution_count": 264,
     "metadata": {},
     "output_type": "execute_result"
    }
   ],
   "source": [
    "import json\n",
    "import requests\n",
    "import os\n",
    "import pandas as pd\n",
    "from dotenv import load_dotenv\n",
    "\n",
    "load_dotenv()"
   ]
  },
  {
   "cell_type": "code",
   "execution_count": 265,
   "metadata": {},
   "outputs": [],
   "source": [
    "# Connect to a free API"
   ]
  },
  {
   "cell_type": "markdown",
   "metadata": {},
   "source": [
    "## Trying 3 Different APIS"
   ]
  },
  {
   "cell_type": "code",
   "execution_count": 266,
   "metadata": {},
   "outputs": [
    {
     "name": "stdout",
     "output_type": "stream",
     "text": [
      "{'message': 'https://images.dog.ceo/breeds/greyhound-indian/rampur-greyhound.jpg', 'status': 'success'}\n",
      "https://images.dog.ceo/breeds/greyhound-indian/rampur-greyhound.jpg\n"
     ]
    }
   ],
   "source": [
    "# No Auth\n",
    "\n",
    "api_path = \"https://dog.ceo/api/breeds/image/random\"\n",
    "\n",
    "responce = requests.get(api_path)\n",
    "\n",
    "data = responce.json()\n",
    "\n",
    "print(data)\n",
    "print(data[\"message\"])"
   ]
  },
  {
   "cell_type": "code",
   "execution_count": 267,
   "metadata": {},
   "outputs": [
    {
     "data": {
      "text/plain": [
       "'2024-06-21T16:54:07-04:00'"
      ]
     },
     "execution_count": 267,
     "metadata": {},
     "output_type": "execute_result"
    }
   ],
   "source": [
    "# API Key\n",
    "base_url = 'https://api.nytimes.com'\n",
    "movies_api = '/svc/topstories/v2'\n",
    "critics_endpoint = '/home.json'\n",
    "\n",
    "nyt_api_path = base_url + movies_api + critics_endpoint\n",
    "\n",
    "# getting api key\n",
    "api_key = os.environ['nytimes_api_key']\n",
    "\n",
    "\n",
    "params = {'api-key': api_key}\n",
    "\n",
    "responce = requests.get(nyt_api_path, params=params)\n",
    "\n",
    "data = responce.json()\n",
    "\n",
    "data[\"last_updated\"]\n",
    "#data"
   ]
  },
  {
   "cell_type": "code",
   "execution_count": 268,
   "metadata": {},
   "outputs": [
    {
     "name": "stdout",
     "output_type": "stream",
     "text": [
      "Reddit User Data\n",
      "{\n",
      "    \"is_employee\": false,\n",
      "    \"seen_layout_switch\": false,\n",
      "    \"has_visited_new_profile\": false,\n",
      "    \"pref_no_profanity\": false,\n",
      "    \"has_external_account\": false,\n",
      "    \"pref_geopopular\": \"\",\n",
      "    \"seen_redesign_modal\": false,\n",
      "    \"pref_show_trending\": true,\n",
      "    \"subreddit\": {\n",
      "        \"default_set\": true,\n",
      "        \"user_is_contributor\": false,\n",
      "        \"banner_img\": \"\",\n",
      "        \"restrict_posting\": true,\n",
      "        \"user_is_banned\": false,\n",
      "        \"free_form_reports\": true,\n",
      "        \"community_icon\": null,\n",
      "        \"show_media\": true,\n",
      "        \"icon_color\": \"\",\n",
      "        \"user_is_muted\": null,\n",
      "        \"display_name\": \"u_ImprintGMG\",\n",
      "        \"header_img\": null,\n",
      "        \"title\": \"\",\n",
      "        \"coins\": 0,\n",
      "        \"previous_names\": [],\n",
      "        \"over_18\": false,\n",
      "        \"icon_size\": [\n",
      "            256,\n",
      "            256\n",
      "        ],\n",
      "        \"primary_color\": \"\",\n",
      "        \"icon_img\": \"https://styles.redditmedia.com/t5_g1i1l/styles/profileIcon_jxfw0pd6wym41.png?width=256&amp;height=256&amp;crop=256:256,smart&amp;s=a20f3f45a13e10ab6f46ffc570db661fc449a5e0\",\n",
      "        \"description\": \"\",\n",
      "        \"allowed_media_in_comments\": [],\n",
      "        \"submit_link_label\": \"\",\n",
      "        \"header_size\": null,\n",
      "        \"restrict_commenting\": false,\n",
      "        \"subscribers\": 0,\n",
      "        \"submit_text_label\": \"\",\n",
      "        \"is_default_icon\": false,\n",
      "        \"link_flair_position\": \"\",\n",
      "        \"display_name_prefixed\": \"u/ImprintGMG\",\n",
      "        \"key_color\": \"\",\n",
      "        \"name\": \"t5_g1i1l\",\n",
      "        \"is_default_banner\": true,\n",
      "        \"url\": \"/user/ImprintGMG/\",\n",
      "        \"quarantine\": false,\n",
      "        \"banner_size\": null,\n",
      "        \"user_is_moderator\": true,\n",
      "        \"accept_followers\": true,\n",
      "        \"public_description\": \"\",\n",
      "        \"link_flair_enabled\": false,\n",
      "        \"disable_contributor_requests\": false,\n",
      "        \"subreddit_type\": \"user\",\n",
      "        \"user_is_subscriber\": false\n",
      "    },\n",
      "    \"pref_show_presence\": true,\n",
      "    \"snoovatar_img\": \"\",\n",
      "    \"snoovatar_size\": null,\n",
      "    \"gold_expiration\": null,\n",
      "    \"has_gold_subscription\": false,\n",
      "    \"is_sponsor\": false,\n",
      "    \"num_friends\": 1,\n",
      "    \"features\": {\n",
      "        \"modmail_harassment_filter\": true,\n",
      "        \"mod_service_mute_writes\": true,\n",
      "        \"promoted_trend_blanks\": true,\n",
      "        \"show_amp_link\": true,\n",
      "        \"chat\": true,\n",
      "        \"is_email_permission_required\": false,\n",
      "        \"mod_awards\": true,\n",
      "        \"expensive_coins_package\": true,\n",
      "        \"mweb_xpromo_revamp_v2\": {\n",
      "            \"owner\": \"growth\",\n",
      "            \"variant\": \"treatment_6\",\n",
      "            \"experiment_id\": 457\n",
      "        },\n",
      "        \"awards_on_streams\": true,\n",
      "        \"mweb_xpromo_modal_listing_click_daily_dismissible_ios\": true,\n",
      "        \"chat_subreddit\": true,\n",
      "        \"cookie_consent_banner\": true,\n",
      "        \"modlog_copyright_removal\": true,\n",
      "        \"do_not_track\": true,\n",
      "        \"images_in_comments\": true,\n",
      "        \"mod_service_mute_reads\": true,\n",
      "        \"chat_user_settings\": true,\n",
      "        \"use_pref_account_deployment\": true,\n",
      "        \"mweb_xpromo_interstitial_comments_ios\": true,\n",
      "        \"mweb_sharing_clipboard\": {\n",
      "            \"owner\": \"growth\",\n",
      "            \"variant\": \"treatment_2\",\n",
      "            \"experiment_id\": 315\n",
      "        },\n",
      "        \"premium_subscriptions_table\": true,\n",
      "        \"mweb_xpromo_interstitial_comments_android\": true,\n",
      "        \"crowd_control_for_post\": true,\n",
      "        \"mweb_xpromo_modal_listing_click_daily_dismissible_android\": true,\n",
      "        \"chat_group_rollout\": true,\n",
      "        \"resized_styles_images\": true,\n",
      "        \"noreferrer_to_noopener\": true\n",
      "    },\n",
      "    \"can_edit_name\": false,\n",
      "    \"verified\": true,\n",
      "    \"new_modmail_exists\": null,\n",
      "    \"pref_autoplay\": true,\n",
      "    \"coins\": 0,\n",
      "    \"has_paypal_subscription\": false,\n",
      "    \"has_subscribed_to_premium\": false,\n",
      "    \"id\": \"y2tz931\",\n",
      "    \"has_stripe_subscription\": false,\n",
      "    \"oauth_client_id\": \"4t9YfwM40_eRfEz3xZLnLg\",\n",
      "    \"can_create_subreddit\": true,\n",
      "    \"over_18\": true,\n",
      "    \"is_gold\": false,\n",
      "    \"is_mod\": false,\n",
      "    \"awarder_karma\": 0,\n",
      "    \"suspension_expiration_utc\": null,\n",
      "    \"has_verified_email\": true,\n",
      "    \"is_suspended\": false,\n",
      "    \"pref_video_autoplay\": true,\n",
      "    \"in_chat\": true,\n",
      "    \"has_android_subscription\": false,\n",
      "    \"in_redesign_beta\": false,\n",
      "    \"icon_img\": \"https://styles.redditmedia.com/t5_g1i1l/styles/profileIcon_jxfw0pd6wym41.png?width=256&amp;height=256&amp;crop=256:256,smart&amp;s=a20f3f45a13e10ab6f46ffc570db661fc449a5e0\",\n",
      "    \"has_mod_mail\": false,\n",
      "    \"pref_nightmode\": true,\n",
      "    \"awardee_karma\": 0,\n",
      "    \"hide_from_robots\": false,\n",
      "    \"password_set\": true,\n",
      "    \"link_karma\": 1,\n",
      "    \"force_password_reset\": false,\n",
      "    \"total_karma\": 2,\n",
      "    \"seen_give_award_tooltip\": false,\n",
      "    \"inbox_count\": 0,\n",
      "    \"seen_premium_adblock_modal\": false,\n",
      "    \"pref_top_karma_subreddits\": true,\n",
      "    \"has_mail\": false,\n",
      "    \"pref_show_snoovatar\": false,\n",
      "    \"name\": \"ImprintGMG\",\n",
      "    \"pref_clickgadget\": 5,\n",
      "    \"created\": 1519181727.0,\n",
      "    \"gold_creddits\": 0,\n",
      "    \"created_utc\": 1519181727.0,\n",
      "    \"has_ios_subscription\": false,\n",
      "    \"pref_show_twitter\": false,\n",
      "    \"in_beta\": false,\n",
      "    \"comment_karma\": 1,\n",
      "    \"accept_followers\": true,\n",
      "    \"has_subscribed\": true,\n",
      "    \"linked_identities\": [\n",
      "        \"https://accounts.google.com\"\n",
      "    ],\n",
      "    \"seen_subreddit_chat_ftux\": false\n",
      "}\n"
     ]
    }
   ],
   "source": [
    "# OAuth\n",
    "\n",
    "# Use environment variables\n",
    "client_id = os.getenv('REDDIT_CLIENT_ID')\n",
    "client_secret = os.getenv('REDDIT_CLIENT_SECRET')\n",
    "username = os.getenv('REDDIT_USERNAME')\n",
    "password = os.getenv('REDDIT_PASSWORD')\n",
    "\n",
    "# Seting up the basic OAuth authentication\n",
    "auth = requests.auth.HTTPBasicAuth(client_id, client_secret)\n",
    "data = {\n",
    "    'grant_type' : 'password',\n",
    "    'username' : 'ImprintGMG',\n",
    "    'password' : 'bjpotter101299'\n",
    "}\n",
    "headers = {\n",
    "    'User-Agent' : user_agent\n",
    "}\n",
    "\n",
    "# Requesting the OAuth token\n",
    "res = requests.post('https://www.reddit.com/api/v1/access_token', auth=auth, data = data, headers=headers)\n",
    "\n",
    "if res.status_code != 200:\n",
    "    print(\"Failed to get access token\", res.json())\n",
    "\n",
    "#extracting the tocken\n",
    "token = res.json()['access_token']\n",
    "\n",
    "# Use the token for the Reddit API request\n",
    "headers['Authorization'] = f'bearer {token}'\n",
    "responce = requests.get('https://oauth.reddit.com/api/v1/me', headers=headers)\n",
    "\n",
    "print(\"Reddit User Data\")\n",
    "\n",
    "print(json.dumps(responce.json(), indent = 4))"
   ]
  },
  {
   "cell_type": "markdown",
   "metadata": {},
   "source": [
    "## Check how to run API calls on a schedule "
   ]
  },
  {
   "cell_type": "code",
   "execution_count": 269,
   "metadata": {},
   "outputs": [
    {
     "data": {
      "text/plain": [
       "'\\nimport time\\nimport requests\\n\\ndef fetch_data():\\n    # Your API call logic here\\n    response = requests.get(\"https://api.example.com/data\")\\n    data = response.json()\\n    print(data)\\n\\nwhile True:\\n    fetch_data()\\n    time.sleep(3600)  # Sleep for one hour\\n\\n'"
      ]
     },
     "execution_count": 269,
     "metadata": {},
     "output_type": "execute_result"
    }
   ],
   "source": [
    "# simplest method would be crating a clock within the python code itself with a .sleep function ot using a scheduleing library\n",
    "'''\n",
    "import time\n",
    "import requests\n",
    "\n",
    "def fetch_data():\n",
    "    # Your API call logic here\n",
    "    response = requests.get(\"https://api.example.com/data\")\n",
    "    data = response.json()\n",
    "    print(data)\n",
    "\n",
    "while True:\n",
    "    fetch_data()\n",
    "    time.sleep(3600)  # Sleep for one hour\n",
    "\n",
    "'''"
   ]
  },
  {
   "cell_type": "code",
   "execution_count": 270,
   "metadata": {},
   "outputs": [
    {
     "data": {
      "text/plain": [
       "'\\nimport schedule\\nimport time\\nimport requests\\n\\ndef fetch_data():\\n    response = requests.get(\"https://api.example.com/data\")\\n    data = response.json()\\n    print(data)\\n\\n# Schedule the fetch_data function to run every hour\\nschedule.every().hour.do(fetch_data)\\n\\nwhile True:\\n    schedule.run_pending()\\n    time.sleep(1)\\n'"
      ]
     },
     "execution_count": 270,
     "metadata": {},
     "output_type": "execute_result"
    }
   ],
   "source": [
    "\n",
    "'''\n",
    "import schedule\n",
    "import time\n",
    "import requests\n",
    "\n",
    "def fetch_data():\n",
    "    response = requests.get(\"https://api.example.com/data\")\n",
    "    data = response.json()\n",
    "    print(data)\n",
    "\n",
    "# Schedule the fetch_data function to run every hour\n",
    "schedule.every().hour.do(fetch_data)\n",
    "\n",
    "while True:\n",
    "    schedule.run_pending()\n",
    "    time.sleep(1)\n",
    "'''"
   ]
  },
  {
   "cell_type": "markdown",
   "metadata": {},
   "source": [
    "#   Python OOP Assignment: Computer Modeling \n",
    "\n",
    " \n",
    "\n",
    "##  Scenario Overview \n",
    "\n",
    "In this assignment, you will be creating a Python model for a computer system. This model will represent various components of a computer, such as the CPU, memory, and storage. You will use Object-Oriented Programming (OOP) principles to design and implement this model, showcasing your understanding of key OOP concepts like classes, inheritance, encapsulation, and polymorphism. \n",
    "\n",
    " \n",
    "\n",
    "##  Problem Statement \n",
    "\n",
    "Your task is to design a Python program that can represent different types of computers. Each computer should be composed of different components, and each component should have its own characteristics and functionalities. The goal is to create a flexible and scalable model that can easily be expanded or modified to represent various types of computer systems. \n",
    "\n",
    " \n",
    "\n",
    "##  Assignment Tasks \n",
    "\n",
    " \n",
    "\n",
    "1. Basic Computer Components \n",
    "\n",
    "    - Create a base class named `ComputerComponent` which will act as a superclass for different computer parts. \n",
    "    - Define common attributes (like `manufacturer`, `model`, `serial_number`) in the `ComputerComponent` class. \n",
    "    - Implement a method in `ComputerComponent` to display details about the component. \n",
    "\n",
    " \n",
    "\n",
    "2. Specific Component Classes \n",
    "\n",
    "    - Create subclasses of `ComputerComponent` for different components: `CPU`, `Memory`, `Storage`. \n",
    "    - Each subclass should have specific attributes relevant to the component type. For instance, `CPU` might have `cores` and `clock_speed`, `Memory` could have `capacity`, and `Storage` might include `storage_type` and `size`. \n",
    "\n",
    " \n",
    "\n",
    "3. Computer Class \n",
    "\n",
    "    - Create a `Computer` class that uses these components. \n",
    "    - The `Computer` class should have attributes to hold instances of `CPU`, `Memory`, and `Storage`. \n",
    "    - Implement a method in the `Computer` class to display information about the entire computer, including its components. \n",
    "\n",
    " \n",
    "\n",
    "4. Advanced Features \n",
    "\n",
    "    - Implement error checking in the `Computer` class to ensure that only appropriate components (instances of `ComputerComponent` subclasses) are associated with the computer. \n",
    "    - Implement a method that allows a user to replace a component with a different one of the same type. \n",
    "    - Use polymorphism to allow different types of CPUs, Memories, and Storages to be used interchangeably in the `Computer` class. "
   ]
  },
  {
   "cell_type": "markdown",
   "metadata": {},
   "source": [
    "## Step 1"
   ]
  },
  {
   "cell_type": "code",
   "execution_count": 271,
   "metadata": {},
   "outputs": [],
   "source": [
    "class ComputerComponent:\n",
    "    def __init__(self, manufacturer, model, serial_number) -> None:\n",
    "        self.manufacturer = manufacturer\n",
    "        self.model = model\n",
    "        self.serial_number = serial_number \n",
    "\n",
    "    def display_details(self):\n",
    "        return f\"Manufacturer: {self.manufacturer}, Model: {self.model}, Serial Number: {self.serial_number}\"       "
   ]
  },
  {
   "cell_type": "code",
   "execution_count": 272,
   "metadata": {},
   "outputs": [
    {
     "data": {
      "text/plain": [
       "'Manufacturer: honda, Model: crv, Serial Number: 123456789'"
      ]
     },
     "execution_count": 272,
     "metadata": {},
     "output_type": "execute_result"
    }
   ],
   "source": [
    "test = ComputerComponent(\"honda\", \"crv\", 123456789)\n",
    "\n",
    "test.display_details()"
   ]
  },
  {
   "cell_type": "markdown",
   "metadata": {},
   "source": [
    "## Step 2"
   ]
  },
  {
   "cell_type": "code",
   "execution_count": 273,
   "metadata": {},
   "outputs": [],
   "source": [
    "class CPU (ComputerComponent):\n",
    "    def __init__(self, manufacturer, model, serial_number, cores, clock_speed) -> None:\n",
    "        super().__init__(manufacturer, model, serial_number)\n",
    "        self.cores = cores\n",
    "        self.clock_speed = clock_speed\n",
    "\n",
    "    def display_details(self):\n",
    "        details = super().display_details()\n",
    "        return f\"{details}, Cores: {self.cores}, Clock Speed: {self.clock_speed} GHz\"\n"
   ]
  },
  {
   "cell_type": "code",
   "execution_count": 274,
   "metadata": {},
   "outputs": [],
   "source": [
    "class Memory (ComputerComponent):\n",
    "    def __init__(self, manufacturer, model, serial_number, capacity) -> None:\n",
    "        super().__init__(manufacturer, model, serial_number)\n",
    "        self.capacity = capacity\n",
    "    \n",
    "    def display_details(self) -> str:\n",
    "        details = super().display_details()\n",
    "        return f\"{details}, Capacity: {self.capacity} GB\""
   ]
  },
  {
   "cell_type": "code",
   "execution_count": 275,
   "metadata": {},
   "outputs": [],
   "source": [
    "class Storage (ComputerComponent):\n",
    "    def __init__(self, manufacturer, model, serial_number, storage_type, size) -> None:\n",
    "        super().__init__(manufacturer, model, serial_number)\n",
    "        self.storage_type = storage_type\n",
    "        self.size = size\n",
    "\n",
    "    def display_details(self) -> str:\n",
    "        details = super().display_details()\n",
    "        return f\"{details}, Type: {self.storage_type}, Size: {self.size} GB\""
   ]
  },
  {
   "cell_type": "markdown",
   "metadata": {},
   "source": [
    "## Step 3"
   ]
  },
  {
   "cell_type": "code",
   "execution_count": 276,
   "metadata": {},
   "outputs": [],
   "source": [
    "class Computer:\n",
    "    def __init__(self, cpu: CPU, memory: Memory, storage: Storage) -> None:\n",
    "\n",
    "        if not isinstance(cpu, CPU):\n",
    "            raise TypeError(\"The 'cpu' must be an instance of the CPU class\")\n",
    "        if not isinstance(memory, Memory):\n",
    "            raise TypeError(\"The 'memory' must be an instance of the Memoery class\")\n",
    "        if not isinstance(storage, Storage):\n",
    "            raise TypeError(\"The 'storage' must be an instance of the Storage class\")\n",
    "\n",
    "        self.cpu = cpu\n",
    "        self.memory = memory\n",
    "        self.storage = storage\n",
    "\n",
    "\n",
    "    def display_info(self):\n",
    "        return (\n",
    "            f\"Computer Details:\\n\"\n",
    "            f\"CPU: {self.cpu.display_details()}\\n\"\n",
    "            f\"Memory: {self.memory.display_details()}\\n\"\n",
    "            f\"Storage: {self.storage.display_details()}\"\n",
    "        )\n",
    "    \n",
    "    def replace_component(self, component_type: str, new_component: ComputerComponent) -> None:\n",
    "        if not isinstance(new_component, ComputerComponent):\n",
    "            raise TypeError(\"New component must be an instance of ComputerComponent or its subclasses.\")\n",
    "        \n",
    "        # Check the type of the component and replace it if it matches the expected type\n",
    "        if component_type == \"cpu\" and isinstance(new_component, CPU):\n",
    "            self.cpu = new_component\n",
    "        elif component_type == \"memory\" and isinstance(new_component, Memory):\n",
    "            self.cpu = new_component\n",
    "        elif component_type == \"memory\" and isinstance(new_component, Memory):\n",
    "            self.cpu = new_component\n",
    "        else:\n",
    "            raise ValueError(f\"Invalid component type of mismatched instance type for {component_type}\")\n"
   ]
  },
  {
   "cell_type": "code",
   "execution_count": 277,
   "metadata": {},
   "outputs": [
    {
     "name": "stdout",
     "output_type": "stream",
     "text": [
      "Computer Details:\n",
      "CPU: Manufacturer: Intel, Model: Core i9, Serial Number: ABC123, Cores: 8, Clock Speed: 3.6 GHz\n",
      "Memory: Manufacturer: Kingston, Model: HyperX, Serial Number: XYZ456, Capacity: 32 GB\n",
      "Storage: Manufacturer: Samsung, Model: 860 Evo, Serial Number: SSD789, Type: SSD, Size: 1000 GB\n"
     ]
    }
   ],
   "source": [
    "# Create component instances\n",
    "my_cpu = CPU(\"Intel\", \"Core i9\", \"ABC123\", 8, 3.6)\n",
    "my_memory = Memory(\"Kingston\", \"HyperX\", \"XYZ456\", 32)\n",
    "my_storage = Storage(\"Samsung\", \"860 Evo\", \"SSD789\", \"SSD\", 1000)\n",
    "\n",
    "# Create a Computer instance using the components\n",
    "my_computer = Computer(my_cpu, my_memory, my_storage)\n",
    "\n",
    "# Display the computer's information\n",
    "print(my_computer.display_info())"
   ]
  },
  {
   "cell_type": "markdown",
   "metadata": {},
   "source": [
    "## Step 4"
   ]
  },
  {
   "cell_type": "code",
   "execution_count": 278,
   "metadata": {},
   "outputs": [
    {
     "name": "stdout",
     "output_type": "stream",
     "text": [
      "Initial computer configuration:\n",
      "Computer Details:\n",
      "CPU: Manufacturer: Intel, Model: Core i9, Serial Number: 123ABC, Cores: 8, Clock Speed: 3.6 GHz\n",
      "Memory: Manufacturer: Kingston, Model: HyperX, Serial Number: 456DEF, Capacity: 16 GB\n",
      "Storage: Manufacturer: Samsung, Model: EVO, Serial Number: 789GHI, Type: SSD, Size: 512 GB\n",
      "\n",
      "After replacing memory:\n",
      "Computer Details:\n",
      "CPU: Manufacturer: Crucial, Model: Ballistix, Serial Number: 101JKL, Capacity: 32 GB\n",
      "Memory: Manufacturer: Kingston, Model: HyperX, Serial Number: 456DEF, Capacity: 16 GB\n",
      "Storage: Manufacturer: Samsung, Model: EVO, Serial Number: 789GHI, Type: SSD, Size: 512 GB\n"
     ]
    }
   ],
   "source": [
    "# Doing testing to make sure it works\n",
    "\n",
    "# Step 1: Create valid component instances\n",
    "cpu = CPU(\"Intel\", \"Core i9\", \"123ABC\", 8, 3.6)\n",
    "memory = Memory(\"Kingston\", \"HyperX\", \"456DEF\", 16)\n",
    "storage = Storage(\"Samsung\", \"EVO\", \"789GHI\", \"SSD\", 512)\n",
    "\n",
    "# Step 2: Initialize the computer with these components\n",
    "computer = Computer(cpu, memory, storage)\n",
    "\n",
    "# Step 3: Display initial computer configuration\n",
    "print(\"Initial computer configuration:\")\n",
    "print(computer.display_info())\n",
    "\n",
    "# Step 4: Test replacing memory with another valid memory object\n",
    "new_memory = Memory(\"Crucial\", \"Ballistix\", \"101JKL\", 32)\n",
    "computer.replace_component(\"memory\", new_memory)\n",
    "print(\"\\nAfter replacing memory:\")\n",
    "print(computer.display_info())"
   ]
  }
 ],
 "metadata": {
  "kernelspec": {
   "display_name": ".venv",
   "language": "python",
   "name": "python3"
  },
  "language_info": {
   "codemirror_mode": {
    "name": "ipython",
    "version": 3
   },
   "file_extension": ".py",
   "mimetype": "text/x-python",
   "name": "python",
   "nbconvert_exporter": "python",
   "pygments_lexer": "ipython3",
   "version": "3.11.5"
  }
 },
 "nbformat": 4,
 "nbformat_minor": 2
}

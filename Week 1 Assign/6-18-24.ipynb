{
 "cells": [
  {
   "cell_type": "markdown",
   "metadata": {},
   "source": [
    "# Daily Addignment 2"
   ]
  },
  {
   "cell_type": "markdown",
   "metadata": {},
   "source": [
    "### Excercise 1: String Validator"
   ]
  },
  {
   "cell_type": "code",
   "execution_count": 114,
   "metadata": {},
   "outputs": [
    {
     "name": "stdout",
     "output_type": "stream",
     "text": [
      "False\n",
      "False\n",
      "False\n",
      "False\n",
      "False\n"
     ]
    }
   ],
   "source": [
    "# Write a function that takes in an input from the user and runs a string validation check on it. The output should be as follows.\n",
    "# - On the first line, print True if  has any alphanumeric characters. Otherwise, print False.\n",
    "# - On the second line, print True if  has any alphabetical characters. Otherwise, print False.\n",
    "# - On the third line, print True if  has any digits. Otherwise, print False.\n",
    "# - On the fourth line, print True if  has any lowercase characters. Otherwise, print False.\n",
    "# - On the fifth line, print True if  has any uppercase characters. Otherwise, print False.\n",
    "\n",
    "def validate_string(user_input):\n",
    "    # Check for alphanumeric characters\n",
    "    if any(char.isalnum() for char in user_input):\n",
    "        print(True)\n",
    "    else:\n",
    "        print(False)\n",
    "    \n",
    "    # Check for alphabetical characters\n",
    "    if any(char.isalpha() for char in user_input):\n",
    "        print(True)\n",
    "    else:\n",
    "        print(False)\n",
    "    \n",
    "    # Check for digits\n",
    "    if any(char.isdigit() for char in user_input):\n",
    "        print(True)\n",
    "    else:\n",
    "        print(False)\n",
    "    \n",
    "    # Check for lowercase characters\n",
    "    if any(char.islower() for char in user_input):\n",
    "        print(True)\n",
    "    else:\n",
    "        print(False)\n",
    "    \n",
    "    # Check for uppercase characters\n",
    "    if any(char.isupper() for char in user_input):\n",
    "        print(True)\n",
    "    else:\n",
    "        print(False)\n",
    "\n",
    "# Example usage\n",
    "user_input = input(\"Enter a string: \")\n",
    "validate_string(user_input)"
   ]
  },
  {
   "cell_type": "markdown",
   "metadata": {},
   "source": [
    "### Excercise 2: Regular Expressions"
   ]
  },
  {
   "cell_type": "code",
   "execution_count": 115,
   "metadata": {},
   "outputs": [
    {
     "name": "stdout",
     "output_type": "stream",
     "text": [
      "['Welcome']\n",
      "<re.Match object; span=(0, 7), match='Welcome'>\n"
     ]
    }
   ],
   "source": [
    "import re\n",
    "\n",
    "# - Any word at the begging of a string\n",
    "\n",
    "string = \"Welcome to Skillstorm! 36, Everybody is welcome here! 12 the weather is 92 degrees outside. 123456789 letter, filler, falll\"\n",
    "match = re.search(\"^\\w+\", string)\n",
    "word_list = re.findall(r\"^\\w+\", string)\n",
    "print(word_list)\n",
    "print(match)"
   ]
  },
  {
   "cell_type": "code",
   "execution_count": 116,
   "metadata": {},
   "outputs": [
    {
     "name": "stdout",
     "output_type": "stream",
     "text": [
      "[' 3', ' 1', ' 9', ' 1']\n",
      "<re.Match object; span=(22, 24), match=' 3'>\n"
     ]
    }
   ],
   "source": [
    "# - Any time that the character after a whitespace is a digit\n",
    "match = re.search(\"\\s\\d\", string)\n",
    "word_list = re.findall(r\"\\s\\d\", string)\n",
    "print(word_list)\n",
    "print(match)"
   ]
  },
  {
   "cell_type": "code",
   "execution_count": 117,
   "metadata": {},
   "outputs": [
    {
     "name": "stdout",
     "output_type": "stream",
     "text": [
      "['Skillstorm!', '36,', 'here!', 'outside.', 'letter,', 'filler,']\n",
      "<re.Match object; span=(11, 22), match='Skillstorm!'>\n"
     ]
    }
   ],
   "source": [
    "# - any word with punctuation at the end of a string\n",
    "match = re.search(\"\\w+[.,!?]\", string)\n",
    "word_list = re.findall(r\"\\w+[.,!?]\", string)\n",
    "print(word_list)\n",
    "print(match)"
   ]
  },
  {
   "cell_type": "code",
   "execution_count": 118,
   "metadata": {},
   "outputs": [
    {
     "name": "stdout",
     "output_type": "stream",
     "text": [
      "Occurrences of consecutive digits 1, 2, or 3: ['12', '123']\n",
      "Number of occurrences of consecutive digits 1, 2, or 3: 2\n"
     ]
    }
   ],
   "source": [
    "# - any occurances of consecutive digits 1,2, or 3\n",
    "def find_consecutive_digits(input_string):\n",
    "    # Pattern to match two or more consecutive digits 1, 2, or 3\n",
    "    pattern = r'(?:[1-3]){2,}'\n",
    "    \n",
    "    # Find all occurrences of the pattern\n",
    "    matches = re.findall(pattern, input_string)\n",
    "    \n",
    "    return matches\n",
    "\n",
    "# Find and count occurrences of consecutive digits 1, 2, or 3\n",
    "matches = find_consecutive_digits(string)\n",
    "print(f\"Occurrences of consecutive digits 1, 2, or 3: {matches}\")\n",
    "print(f\"Number of occurrences of consecutive digits 1, 2, or 3: {len(matches)}\")"
   ]
  },
  {
   "cell_type": "code",
   "execution_count": 119,
   "metadata": {},
   "outputs": [
    {
     "name": "stdout",
     "output_type": "stream",
     "text": [
      "['Skillstorm', 'degrees', 'letter', 'filler', 'falll']\n"
     ]
    }
   ],
   "source": [
    "# - any word with double letters (i.e. letter, filler, skill, parrot)\n",
    "\n",
    "\n",
    "# Example solution NOT MY OWN as this was out of the scope of todays lesson\n",
    "def find_double_letter_words(text):\n",
    "    # Pattern to match words with exactly two consecutive same letters      Teachers patterm: \\b.*([a-zA-Z])\\1.*\\b\n",
    "    pattern = r'\\b.*([a-zA-Z])\\1.*\\b'\n",
    "    \n",
    "    # Find all words in the text\n",
    "    words = re.findall(r'\\w+', text)\n",
    "    \n",
    "    # Filter words that contain exactly two consecutive same letters\n",
    "    double_letter_words = [word for word in words if re.search(pattern, word)]\n",
    "    \n",
    "    return double_letter_words\n",
    "\n",
    "double_letter_words = find_double_letter_words(string)\n",
    "print(double_letter_words)"
   ]
  },
  {
   "cell_type": "markdown",
   "metadata": {},
   "source": [
    "### Excercise 3: Word Count"
   ]
  },
  {
   "cell_type": "code",
   "execution_count": 120,
   "metadata": {},
   "outputs": [
    {
     "name": "stdout",
     "output_type": "stream",
     "text": [
      "The word count from Chapter 1 onwards is: None\n"
     ]
    }
   ],
   "source": [
    "file_path = \"../Data/Pride_and_Prejudice.txt\"\n",
    "\n",
    "# Example solution to learning\n",
    "def count_words_from_chapter_1(file_path):\n",
    "    with open(file_path, 'r', encoding='utf-8') as file:\n",
    "        text = file.read()\n",
    "\n",
    "\n",
    "\n",
    "# Example usage\n",
    "word_count = count_words_from_chapter_1(file_path)\n",
    "print(f\"The word count from Chapter 1 onwards is: {word_count}\")"
   ]
  },
  {
   "cell_type": "code",
   "execution_count": 121,
   "metadata": {},
   "outputs": [
    {
     "name": "stdout",
     "output_type": "stream",
     "text": [
      "The first word after 'Chapter 1' is: 'It'\n",
      "The word count from Chapter 1 onwards is: 124465\n"
     ]
    }
   ],
   "source": [
    "file_path = \"../Data/Pride_and_Prejudice.txt\"\n",
    "\n",
    "# Example solution to learning\n",
    "def count_words_from_chapter_1(file_path):\n",
    "    with open(file_path, 'r', encoding='utf-8') as file:\n",
    "        text = file.read()\n",
    "\n",
    "    # The marker for the start of the actual book content\n",
    "    start_marker = \"Chapter 1\\n\\n      It is a truth universally acknowledged\"\n",
    "    start_index = text.find(start_marker)\n",
    "    if start_index == -1:\n",
    "        print(\"Chapter 1 start not found in the text.\")\n",
    "        return 0\n",
    "\n",
    "    # Extract the text starting from the first word of Chapter 1\n",
    "    text_from_chapter_1 = text[start_index + len(\"Chapter 1\\n\\n\"):]\n",
    "    text_from_chapter_1 = text_from_chapter_1.lstrip()\n",
    "\n",
    "    # Find the first word and print it\n",
    "    first_word_end = text_from_chapter_1.find(' ')\n",
    "    first_word = text_from_chapter_1[:first_word_end]\n",
    "    print(f\"The first word after 'Chapter 1' is: '{first_word}'\")\n",
    "\n",
    "    # Split the text into words and count them\n",
    "    words = text_from_chapter_1.split()\n",
    "    word_count = len(words)\n",
    "\n",
    "    return word_count\n",
    "\n",
    "# Example usage\n",
    "word_count = count_words_from_chapter_1(file_path)\n",
    "print(f\"The word count from Chapter 1 onwards is: {word_count}\")\n"
   ]
  },
  {
   "cell_type": "markdown",
   "metadata": {},
   "source": [
    "### Excercise 4: Word Score"
   ]
  },
  {
   "cell_type": "code",
   "execution_count": 122,
   "metadata": {},
   "outputs": [
    {
     "name": "stdout",
     "output_type": "stream",
     "text": [
      "Total score: 4\n"
     ]
    }
   ],
   "source": [
    "def count_vowels(word):\n",
    "    vowels = \"aeiouy\"\n",
    "    count = 0\n",
    "    for char in word.lower():\n",
    "        if char in vowels:\n",
    "            count += 1\n",
    "    return count\n",
    "\n",
    "def word_score(word):\n",
    "    vowel_count = count_vowels(word)\n",
    "    if vowel_count % 2 == 0:\n",
    "        return 2\n",
    "    else:\n",
    "        return 1\n",
    "\n",
    "def total_word_score(words):\n",
    "    words = input_string.split()\n",
    "    total_score = 0\n",
    "    for word in words:\n",
    "        total_score += word_score(word)\n",
    "    return total_score\n",
    "\n",
    "# Example usage\n",
    "input_string = \"programming is awesome\"\n",
    "print(f\"Total score: {total_word_score(input_string)}\")\n"
   ]
  }
 ],
 "metadata": {
  "kernelspec": {
   "display_name": "Python 3",
   "language": "python",
   "name": "python3"
  },
  "language_info": {
   "codemirror_mode": {
    "name": "ipython",
    "version": 3
   },
   "file_extension": ".py",
   "mimetype": "text/x-python",
   "name": "python",
   "nbconvert_exporter": "python",
   "pygments_lexer": "ipython3",
   "version": "3.11.5"
  }
 },
 "nbformat": 4,
 "nbformat_minor": 2
}
